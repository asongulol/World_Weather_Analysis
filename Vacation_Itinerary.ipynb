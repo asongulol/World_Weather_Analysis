{
 "cells": [
  {
   "cell_type": "code",
   "execution_count": 90,
   "metadata": {},
   "outputs": [],
   "source": [
    "# Import the dependencies.\n",
    "import pandas as pd\n",
    "import matplotlib.pyplot as plt\n",
    "import numpy as np\n",
    "from citipy import citipy"
   ]
  },
  {
   "cell_type": "code",
   "execution_count": 91,
   "metadata": {},
   "outputs": [],
   "source": [
    "# Import the database\n",
    "all_places = pd.read_csv(r'C:\\Users\\otrin\\OneDrive\\Desktop\\Git\\World_Weather_Analysis\\weather_data\\WeatherPy_vacation.csv')"
   ]
  },
  {
   "cell_type": "code",
   "execution_count": 92,
   "metadata": {},
   "outputs": [],
   "source": [
    "\n",
    "# Choosing four cities in Russia that fits the vacation\n",
    "cities_df = all_places.loc[all_places['Country'] == 'RU']"
   ]
  },
  {
   "cell_type": "code",
   "execution_count": 93,
   "metadata": {
    "scrolled": true
   },
   "outputs": [
    {
     "data": {
      "text/html": [
       "<div>\n",
       "<style scoped>\n",
       "    .dataframe tbody tr th:only-of-type {\n",
       "        vertical-align: middle;\n",
       "    }\n",
       "\n",
       "    .dataframe tbody tr th {\n",
       "        vertical-align: top;\n",
       "    }\n",
       "\n",
       "    .dataframe thead th {\n",
       "        text-align: right;\n",
       "    }\n",
       "</style>\n",
       "<table border=\"1\" class=\"dataframe\">\n",
       "  <thead>\n",
       "    <tr style=\"text-align: right;\">\n",
       "      <th></th>\n",
       "      <th>City_ID</th>\n",
       "      <th>City</th>\n",
       "      <th>Country</th>\n",
       "      <th>Date</th>\n",
       "      <th>Lat</th>\n",
       "      <th>Lng</th>\n",
       "      <th>Max Temp</th>\n",
       "      <th>Humidity</th>\n",
       "      <th>Cloudiness</th>\n",
       "      <th>Wind Speed</th>\n",
       "      <th>Rain</th>\n",
       "      <th>Snow</th>\n",
       "    </tr>\n",
       "  </thead>\n",
       "  <tbody>\n",
       "    <tr>\n",
       "      <th>4</th>\n",
       "      <td>51</td>\n",
       "      <td>Ivanteyevka</td>\n",
       "      <td>RU</td>\n",
       "      <td>2020-06-28 16:20:25</td>\n",
       "      <td>55.97</td>\n",
       "      <td>37.92</td>\n",
       "      <td>75.99</td>\n",
       "      <td>60</td>\n",
       "      <td>46</td>\n",
       "      <td>8.95</td>\n",
       "      <td>0.46</td>\n",
       "      <td>0</td>\n",
       "    </tr>\n",
       "    <tr>\n",
       "      <th>20</th>\n",
       "      <td>248</td>\n",
       "      <td>Veydelevka</td>\n",
       "      <td>RU</td>\n",
       "      <td>2020-06-28 16:20:32</td>\n",
       "      <td>50.15</td>\n",
       "      <td>38.45</td>\n",
       "      <td>74.44</td>\n",
       "      <td>76</td>\n",
       "      <td>100</td>\n",
       "      <td>6.26</td>\n",
       "      <td>0.40</td>\n",
       "      <td>0</td>\n",
       "    </tr>\n",
       "    <tr>\n",
       "      <th>27</th>\n",
       "      <td>321</td>\n",
       "      <td>Mozhaysk</td>\n",
       "      <td>RU</td>\n",
       "      <td>2020-06-28 16:20:35</td>\n",
       "      <td>55.50</td>\n",
       "      <td>36.03</td>\n",
       "      <td>70.86</td>\n",
       "      <td>84</td>\n",
       "      <td>97</td>\n",
       "      <td>4.27</td>\n",
       "      <td>1.15</td>\n",
       "      <td>0</td>\n",
       "    </tr>\n",
       "    <tr>\n",
       "      <th>40</th>\n",
       "      <td>484</td>\n",
       "      <td>Kholm-Zhirkovskiy</td>\n",
       "      <td>RU</td>\n",
       "      <td>2020-06-28 16:20:41</td>\n",
       "      <td>55.52</td>\n",
       "      <td>33.47</td>\n",
       "      <td>74.05</td>\n",
       "      <td>76</td>\n",
       "      <td>76</td>\n",
       "      <td>1.43</td>\n",
       "      <td>0.25</td>\n",
       "      <td>0</td>\n",
       "    </tr>\n",
       "    <tr>\n",
       "      <th>43</th>\n",
       "      <td>518</td>\n",
       "      <td>Chekhov</td>\n",
       "      <td>RU</td>\n",
       "      <td>2020-06-28 16:20:42</td>\n",
       "      <td>55.14</td>\n",
       "      <td>37.47</td>\n",
       "      <td>73.40</td>\n",
       "      <td>64</td>\n",
       "      <td>98</td>\n",
       "      <td>8.95</td>\n",
       "      <td>1.76</td>\n",
       "      <td>0</td>\n",
       "    </tr>\n",
       "  </tbody>\n",
       "</table>\n",
       "</div>"
      ],
      "text/plain": [
       "    City_ID               City Country                 Date    Lat    Lng  \\\n",
       "4        51        Ivanteyevka      RU  2020-06-28 16:20:25  55.97  37.92   \n",
       "20      248         Veydelevka      RU  2020-06-28 16:20:32  50.15  38.45   \n",
       "27      321           Mozhaysk      RU  2020-06-28 16:20:35  55.50  36.03   \n",
       "40      484  Kholm-Zhirkovskiy      RU  2020-06-28 16:20:41  55.52  33.47   \n",
       "43      518            Chekhov      RU  2020-06-28 16:20:42  55.14  37.47   \n",
       "\n",
       "    Max Temp  Humidity  Cloudiness  Wind Speed  Rain  Snow  \n",
       "4      75.99        60          46        8.95  0.46     0  \n",
       "20     74.44        76         100        6.26  0.40     0  \n",
       "27     70.86        84          97        4.27  1.15     0  \n",
       "40     74.05        76          76        1.43  0.25     0  \n",
       "43     73.40        64          98        8.95  1.76     0  "
      ]
     },
     "execution_count": 93,
     "metadata": {},
     "output_type": "execute_result"
    }
   ],
   "source": [
    "cities_df"
   ]
  },
  {
   "cell_type": "code",
   "execution_count": 94,
   "metadata": {
    "scrolled": true
   },
   "outputs": [],
   "source": [
    "cities_df = cities_df.drop([40])"
   ]
  },
  {
   "cell_type": "code",
   "execution_count": 95,
   "metadata": {},
   "outputs": [],
   "source": [
    "Ivanteyevka = (55.97, 37.92)\n",
    "Veydelevka= (50.15, 38.45)\n",
    "Mozhaysk = (55.50, 36.03)\n",
    "Chekhov = (55.14, 37.47)\n"
   ]
  },
  {
   "cell_type": "code",
   "execution_count": 96,
   "metadata": {
    "scrolled": false
   },
   "outputs": [
    {
     "data": {
      "application/vnd.jupyter.widget-view+json": {
       "model_id": "fe76fa46f823486c9a9cadd3a1de47a1",
       "version_major": 2,
       "version_minor": 0
      },
      "text/plain": [
       "Figure(layout=FigureLayout(height='420px'))"
      ]
     },
     "metadata": {},
     "output_type": "display_data"
    }
   ],
   "source": [
    "#import dependencies\n",
    "import requests\n",
    "import gmaps\n",
    "import gmaps.datasets\n",
    "\n",
    "#Import API key\n",
    "from config import g_key\n",
    "\n",
    "# Configure gmaps to use your Google API key.\n",
    "gmaps.configure(api_key=g_key)\n",
    "\n",
    "#Latitude longtitude pairs\n",
    "Ivanteyevka = (55.97, 37.92)\n",
    "Veydelevka= (50.15, 38.45)\n",
    "Mozhaysk = (55.50, 36.03)\n",
    "Chekhov = (55.14, 37.47)\n",
    "fig = gmaps.figure()\n",
    "itinerary = gmaps.directions_layer(Ivanteyevka, Veydelevka, waypoints=[Mozhaysk, Chekhov], travel_mode='DRIVING')\n",
    "#locations = cities_df[[\"Lat\", \"Lng\"]]\n",
    "fig.add_layer(itinerary)\n",
    "fig"
   ]
  },
  {
   "cell_type": "code",
   "execution_count": 110,
   "metadata": {},
   "outputs": [
    {
     "data": {
      "text/html": [
       "<div>\n",
       "<style scoped>\n",
       "    .dataframe tbody tr th:only-of-type {\n",
       "        vertical-align: middle;\n",
       "    }\n",
       "\n",
       "    .dataframe tbody tr th {\n",
       "        vertical-align: top;\n",
       "    }\n",
       "\n",
       "    .dataframe thead th {\n",
       "        text-align: right;\n",
       "    }\n",
       "</style>\n",
       "<table border=\"1\" class=\"dataframe\">\n",
       "  <thead>\n",
       "    <tr style=\"text-align: right;\">\n",
       "      <th></th>\n",
       "      <th>City</th>\n",
       "      <th>Country</th>\n",
       "      <th>Max Temp</th>\n",
       "      <th>Lat</th>\n",
       "      <th>Lng</th>\n",
       "      <th>Hotel Name</th>\n",
       "    </tr>\n",
       "  </thead>\n",
       "  <tbody>\n",
       "    <tr>\n",
       "      <th>4</th>\n",
       "      <td>Ivanteyevka</td>\n",
       "      <td>RU</td>\n",
       "      <td>75.99</td>\n",
       "      <td>55.97</td>\n",
       "      <td>37.92</td>\n",
       "      <td></td>\n",
       "    </tr>\n",
       "    <tr>\n",
       "      <th>20</th>\n",
       "      <td>Veydelevka</td>\n",
       "      <td>RU</td>\n",
       "      <td>74.44</td>\n",
       "      <td>50.15</td>\n",
       "      <td>38.45</td>\n",
       "      <td></td>\n",
       "    </tr>\n",
       "    <tr>\n",
       "      <th>27</th>\n",
       "      <td>Mozhaysk</td>\n",
       "      <td>RU</td>\n",
       "      <td>70.86</td>\n",
       "      <td>55.50</td>\n",
       "      <td>36.03</td>\n",
       "      <td></td>\n",
       "    </tr>\n",
       "    <tr>\n",
       "      <th>43</th>\n",
       "      <td>Chekhov</td>\n",
       "      <td>RU</td>\n",
       "      <td>73.40</td>\n",
       "      <td>55.14</td>\n",
       "      <td>37.47</td>\n",
       "      <td></td>\n",
       "    </tr>\n",
       "  </tbody>\n",
       "</table>\n",
       "</div>"
      ],
      "text/plain": [
       "           City Country  Max Temp    Lat    Lng Hotel Name\n",
       "4   Ivanteyevka      RU     75.99  55.97  37.92           \n",
       "20   Veydelevka      RU     74.44  50.15  38.45           \n",
       "27     Mozhaysk      RU     70.86  55.50  36.03           \n",
       "43      Chekhov      RU     73.40  55.14  37.47           "
      ]
     },
     "execution_count": 110,
     "metadata": {},
     "output_type": "execute_result"
    }
   ],
   "source": [
    "# Create DataFrame called hotel_df to store hotel names along with city, country, max temp, and coordinates.\n",
    "hotel_df = cities_df[[\"City\", \"Country\", \"Max Temp\", \"Lat\", \"Lng\"]].copy()\n",
    "hotel_df[\"Hotel Name\"] = \"\"\n",
    "hotel_df.head(10)"
   ]
  },
  {
   "cell_type": "code",
   "execution_count": 111,
   "metadata": {},
   "outputs": [],
   "source": [
    "# Iterate through the DataFrame.\n",
    "for index, row in hotel_df.iterrows():\n",
    "    # Get the latitude and longitude.\n",
    "    lat = row[\"Lat\"]\n",
    "    lng = row[\"Lng\"]\n",
    "\n",
    "    # Add the latitude and longitude to location key for the params dictionary.\n",
    "    params = {\n",
    "        \"radius\": 5000,\n",
    "        \"types\": \"lodging\",\n",
    "        \"key\": g_key,\n",
    "        \"location\": f\"{lat},{lng}\"}\n",
    "    \n",
    "    # Use the search term: \"lodging\" and our latitude and longitude.\n",
    "    base_url = \"https://maps.googleapis.com/maps/api/place/nearbysearch/json\"\n",
    "    # Make request and get the JSON data from the search.\n",
    "    hotels = requests.get(base_url, params=params).json()\n",
    "    # Grab the first hotel from the results and store the name.\n",
    "    try:\n",
    "        hotel_df.loc[index, \"Hotel Name\"] = hotels[\"results\"][0][\"name\"]\n",
    "    except (IndexError):\n",
    "        print(\"Hotel not found... skipping.\")  "
   ]
  },
  {
   "cell_type": "code",
   "execution_count": 112,
   "metadata": {},
   "outputs": [
    {
     "data": {
      "text/html": [
       "<div>\n",
       "<style scoped>\n",
       "    .dataframe tbody tr th:only-of-type {\n",
       "        vertical-align: middle;\n",
       "    }\n",
       "\n",
       "    .dataframe tbody tr th {\n",
       "        vertical-align: top;\n",
       "    }\n",
       "\n",
       "    .dataframe thead th {\n",
       "        text-align: right;\n",
       "    }\n",
       "</style>\n",
       "<table border=\"1\" class=\"dataframe\">\n",
       "  <thead>\n",
       "    <tr style=\"text-align: right;\">\n",
       "      <th></th>\n",
       "      <th>City</th>\n",
       "      <th>Country</th>\n",
       "      <th>Max Temp</th>\n",
       "      <th>Lat</th>\n",
       "      <th>Lng</th>\n",
       "      <th>Hotel Name</th>\n",
       "    </tr>\n",
       "  </thead>\n",
       "  <tbody>\n",
       "    <tr>\n",
       "      <th>4</th>\n",
       "      <td>Ivanteyevka</td>\n",
       "      <td>RU</td>\n",
       "      <td>75.99</td>\n",
       "      <td>55.97</td>\n",
       "      <td>37.92</td>\n",
       "      <td>New Slides</td>\n",
       "    </tr>\n",
       "    <tr>\n",
       "      <th>20</th>\n",
       "      <td>Veydelevka</td>\n",
       "      <td>RU</td>\n",
       "      <td>74.44</td>\n",
       "      <td>50.15</td>\n",
       "      <td>38.45</td>\n",
       "      <td>Po Foto</td>\n",
       "    </tr>\n",
       "    <tr>\n",
       "      <th>27</th>\n",
       "      <td>Mozhaysk</td>\n",
       "      <td>RU</td>\n",
       "      <td>70.86</td>\n",
       "      <td>55.50</td>\n",
       "      <td>36.03</td>\n",
       "      <td>Country house U Ivanicha</td>\n",
       "    </tr>\n",
       "    <tr>\n",
       "      <th>43</th>\n",
       "      <td>Chekhov</td>\n",
       "      <td>RU</td>\n",
       "      <td>73.40</td>\n",
       "      <td>55.14</td>\n",
       "      <td>37.47</td>\n",
       "      <td>Cottage Edu v gosti</td>\n",
       "    </tr>\n",
       "  </tbody>\n",
       "</table>\n",
       "</div>"
      ],
      "text/plain": [
       "           City Country  Max Temp    Lat    Lng                Hotel Name\n",
       "4   Ivanteyevka      RU     75.99  55.97  37.92                New Slides\n",
       "20   Veydelevka      RU     74.44  50.15  38.45                   Po Foto\n",
       "27     Mozhaysk      RU     70.86  55.50  36.03  Country house U Ivanicha\n",
       "43      Chekhov      RU     73.40  55.14  37.47       Cottage Edu v gosti"
      ]
     },
     "execution_count": 112,
     "metadata": {},
     "output_type": "execute_result"
    }
   ],
   "source": [
    "hotel_df"
   ]
  },
  {
   "cell_type": "code",
   "execution_count": 113,
   "metadata": {},
   "outputs": [
    {
     "data": {
      "text/plain": [
       "17"
      ]
     },
     "execution_count": 113,
     "metadata": {},
     "output_type": "execute_result"
    }
   ],
   "source": [
    "len(hotels[\"results\"])"
   ]
  },
  {
   "cell_type": "code",
   "execution_count": 114,
   "metadata": {},
   "outputs": [],
   "source": [
    "info_box_template = \"\"\"\n",
    "<dl>\n",
    "<dt>Hotel Name</dt><dd>{Hotel Name}</dd>\n",
    "<dt>City</dt><dd>{City}</dd>\n",
    "<dt>Country</dt><dd>{Country}</dd>\n",
    "<dt>Max Temp</dt><dd>{Max Temp} °F</dd>\n",
    "</dl>\n",
    "\"\"\"\n",
    "# Store the DataFrame Row.\n",
    "hotel_info = [info_box_template.format(**row) for index, row in hotel_df.iterrows()]"
   ]
  },
  {
   "cell_type": "code",
   "execution_count": 115,
   "metadata": {},
   "outputs": [
    {
     "data": {
      "application/vnd.jupyter.widget-view+json": {
       "model_id": "02dafd7cf6e547a896a24d3936d9c3bc",
       "version_major": 2,
       "version_minor": 0
      },
      "text/plain": [
       "Figure(layout=FigureLayout(height='420px'))"
      ]
     },
     "metadata": {},
     "output_type": "display_data"
    }
   ],
   "source": [
    "# Add a heatmap of temperature for the vacation spots and a pop-up marker for each city.\n",
    "locations = hotel_df[[\"Lat\", \"Lng\"]]\n",
    "max_temp = hotel_df[\"Max Temp\"]\n",
    "fig = gmaps.figure(center=(30.0, 31.0), zoom_level=1.5)\n",
    "heat_layer = gmaps.heatmap_layer(locations, weights=max_temp,dissipating=False,\n",
    "             max_intensity=300, point_radius=4)\n",
    "marker_layer = gmaps.marker_layer(locations, info_box_content=hotel_info)\n",
    "fig.add_layer(heat_layer)\n",
    "fig.add_layer(marker_layer)\n",
    "\n",
    "# Call the figure to plot the data.\n",
    "fig"
   ]
  },
  {
   "cell_type": "code",
   "execution_count": 109,
   "metadata": {},
   "outputs": [
    {
     "data": {
      "text/html": [
       "<div>\n",
       "<style scoped>\n",
       "    .dataframe tbody tr th:only-of-type {\n",
       "        vertical-align: middle;\n",
       "    }\n",
       "\n",
       "    .dataframe tbody tr th {\n",
       "        vertical-align: top;\n",
       "    }\n",
       "\n",
       "    .dataframe thead th {\n",
       "        text-align: right;\n",
       "    }\n",
       "</style>\n",
       "<table border=\"1\" class=\"dataframe\">\n",
       "  <thead>\n",
       "    <tr style=\"text-align: right;\">\n",
       "      <th></th>\n",
       "      <th>City</th>\n",
       "      <th>Country</th>\n",
       "      <th>Max Temp</th>\n",
       "      <th>Lat</th>\n",
       "      <th>Lng</th>\n",
       "      <th>Hotel Name</th>\n",
       "    </tr>\n",
       "  </thead>\n",
       "  <tbody>\n",
       "    <tr>\n",
       "      <th>4</th>\n",
       "      <td>Ivanteyevka</td>\n",
       "      <td>RU</td>\n",
       "      <td>75.99</td>\n",
       "      <td>55.97</td>\n",
       "      <td>37.92</td>\n",
       "      <td></td>\n",
       "    </tr>\n",
       "    <tr>\n",
       "      <th>20</th>\n",
       "      <td>Veydelevka</td>\n",
       "      <td>RU</td>\n",
       "      <td>74.44</td>\n",
       "      <td>50.15</td>\n",
       "      <td>38.45</td>\n",
       "      <td></td>\n",
       "    </tr>\n",
       "    <tr>\n",
       "      <th>27</th>\n",
       "      <td>Mozhaysk</td>\n",
       "      <td>RU</td>\n",
       "      <td>70.86</td>\n",
       "      <td>55.50</td>\n",
       "      <td>36.03</td>\n",
       "      <td></td>\n",
       "    </tr>\n",
       "    <tr>\n",
       "      <th>43</th>\n",
       "      <td>Chekhov</td>\n",
       "      <td>RU</td>\n",
       "      <td>73.40</td>\n",
       "      <td>55.14</td>\n",
       "      <td>37.47</td>\n",
       "      <td></td>\n",
       "    </tr>\n",
       "  </tbody>\n",
       "</table>\n",
       "</div>"
      ],
      "text/plain": [
       "           City Country  Max Temp    Lat    Lng Hotel Name\n",
       "4   Ivanteyevka      RU     75.99  55.97  37.92           \n",
       "20   Veydelevka      RU     74.44  50.15  38.45           \n",
       "27     Mozhaysk      RU     70.86  55.50  36.03           \n",
       "43      Chekhov      RU     73.40  55.14  37.47           "
      ]
     },
     "execution_count": 109,
     "metadata": {},
     "output_type": "execute_result"
    }
   ],
   "source": [
    "hotel_df"
   ]
  },
  {
   "cell_type": "code",
   "execution_count": null,
   "metadata": {},
   "outputs": [],
   "source": []
  }
 ],
 "metadata": {
  "kernelspec": {
   "display_name": "PythonData",
   "language": "python",
   "name": "pythondata"
  },
  "language_info": {
   "codemirror_mode": {
    "name": "ipython",
    "version": 3
   },
   "file_extension": ".py",
   "mimetype": "text/x-python",
   "name": "python",
   "nbconvert_exporter": "python",
   "pygments_lexer": "ipython3",
   "version": "3.7.7"
  }
 },
 "nbformat": 4,
 "nbformat_minor": 4
}
